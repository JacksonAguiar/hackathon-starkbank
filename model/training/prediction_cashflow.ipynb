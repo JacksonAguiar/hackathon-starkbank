{
  "nbformat": 4,
  "nbformat_minor": 0,
  "metadata": {
    "colab": {
      "provenance": [],
      "machine_shape": "hm",
      "gpuType": "T4"
    },
    "kernelspec": {
      "name": "python3",
      "display_name": "Python 3"
    },
    "language_info": {
      "name": "python"
    },
    "accelerator": "GPU"
  },
  "cells": [
    {
      "cell_type": "code",
      "source": [
        "from google.colab import drive\n",
        "drive.mount('/content/drive')"
      ],
      "metadata": {
        "colab": {
          "base_uri": "https://localhost:8080/"
        },
        "id": "-c-wGkpo8FIP",
        "outputId": "aead3401-8495-4b39-8ed3-26a5734b551d"
      },
      "execution_count": 1,
      "outputs": [
        {
          "output_type": "stream",
          "name": "stdout",
          "text": [
            "Mounted at /content/drive\n"
          ]
        }
      ]
    },
    {
      "cell_type": "code",
      "source": [
        "import numpy as np\n",
        "import pandas as pd\n",
        "\n",
        "# Criando um DataFrame para armazenar os dados\n",
        "dados = pd.DataFrame(columns=['Proventos', 'Compras', 'Fluxo de Caixa', 'Faliu'])\n",
        "\n",
        "fluxo_de_caixa_anterior = 0  # Inicializando o fluxo de caixa\n",
        "dias = 30\n",
        "dia_atual = pd.Timestamp('2023-09-01')\n",
        "\n",
        "while dias >= 0:  # Limitando a simulação a 30 dias\n",
        "    # Verifica se é o último dia do ciclo\n",
        "    if dias == 0:\n",
        "        if fluxo_de_caixa_do_dia < 0:\n",
        "            dia_anterior = dia_atual - pd.Timedelta(days=1)\n",
        "            dados.loc[dia_anterior, 'Faliu'] = True\n",
        "            break\n",
        "        else:\n",
        "            # Reiniciando o ciclo de 30 dias\n",
        "            dias = 30\n",
        "            dados.loc[dia_atual, 'Faliu'] = False\n",
        "\n",
        "    n_proventos = np.random.randint(0, 11)\n",
        "    n_compras = np.random.randint(0, 11)\n",
        "\n",
        "    # Gerando valores aleatórios para proventos e compras\n",
        "    proventos = np.random.uniform(0, 10000, n_proventos).sum()\n",
        "    compras = np.random.uniform(0, 10000 + 1 * (30 - dias), n_compras).sum()  # Aumentando o limite máximo à medida que os dias avançam\n",
        "\n",
        "    # Calculando o fluxo de caixa do dia\n",
        "    fluxo_de_caixa_do_dia = fluxo_de_caixa_anterior + proventos - compras\n",
        "\n",
        "    # Adicionando os dados ao DataFrame usando loc\n",
        "    dados.loc[dia_atual] = [proventos, compras, fluxo_de_caixa_do_dia, False]\n",
        "\n",
        "    # Atualizando o fluxo de caixa anterior e o dia atual para o próximo dia\n",
        "    fluxo_de_caixa_anterior = fluxo_de_caixa_do_dia\n",
        "    dia_atual += pd.Timedelta(days=1)\n",
        "\n",
        "    dias -= 1\n",
        "\n",
        "# Convertendo valores para float para melhor manipulação posteriormente\n",
        "dados = dados.astype(float)\n",
        "\n",
        "# Exibindo os dados\n",
        "print(dados)"
      ],
      "metadata": {
        "colab": {
          "base_uri": "https://localhost:8080/"
        },
        "id": "eZrU-lB-ntOo",
        "outputId": "e86dd4ed-0439-4698-9f28-6767e0041c94"
      },
      "execution_count": 1,
      "outputs": [
        {
          "output_type": "stream",
          "name": "stdout",
          "text": [
            "               Proventos       Compras  Fluxo de Caixa  Faliu\n",
            "2023-09-01  30554.056591  23307.089135     7246.967455    0.0\n",
            "2023-09-02    917.274131   9592.382613    -1428.141027    0.0\n",
            "2023-09-03      0.000000  27325.384818   -28753.525845    0.0\n",
            "2023-09-04  26508.610342  11556.262976   -13801.178479    0.0\n",
            "2023-09-05  28610.250405  45272.092263   -30463.020336    0.0\n",
            "2023-09-06  62260.192155  46964.518336   -15167.346518    0.0\n",
            "2023-09-07  34547.238572  16544.057783     2835.834272    0.0\n",
            "2023-09-08   9735.626669  15706.621443    -3135.160502    0.0\n",
            "2023-09-09  16064.415567  51627.180650   -38697.925585    0.0\n",
            "2023-09-10  22773.724050  54649.684042   -70573.885577    0.0\n",
            "2023-09-11  15080.223632  37833.020279   -93326.682224    0.0\n",
            "2023-09-12      0.000000  15426.427334  -108753.109559    0.0\n",
            "2023-09-13  24027.770329  49994.264658  -134719.603888    0.0\n",
            "2023-09-14      0.000000  11543.843008  -146263.446897    0.0\n",
            "2023-09-15  26604.223123  27867.739871  -147526.963645    0.0\n",
            "2023-09-16   2075.696193   4125.504366  -149576.771818    0.0\n",
            "2023-09-17  28373.365899   2279.800619  -123483.206537    0.0\n",
            "2023-09-18  25401.956910  38039.853530  -136121.103158    0.0\n",
            "2023-09-19  21819.491128  34460.327248  -148761.939277    0.0\n",
            "2023-09-20  22463.699404  11013.029878  -137311.269751    0.0\n",
            "2023-09-21  39383.450640  47670.365578  -145598.184689    0.0\n",
            "2023-09-22  50875.514750  16888.195620  -111610.865559    0.0\n",
            "2023-09-23  27209.458762  22140.050660  -106541.457457    0.0\n",
            "2023-09-24  14082.497439  10813.828069  -103272.788087    0.0\n",
            "2023-09-25  55152.716676  36725.994501   -84846.065911    0.0\n",
            "2023-09-26  51932.902990  17630.112563   -50543.275484    0.0\n",
            "2023-09-27   3843.886474  37119.701030   -83819.090041    0.0\n",
            "2023-09-28      0.000000  41483.264353  -125302.354394    0.0\n",
            "2023-09-29   3812.317350   7973.603125  -129463.640169    0.0\n",
            "2023-09-30  10009.733033   8935.512499  -128389.419635    1.0\n"
          ]
        }
      ]
    },
    {
      "cell_type": "code",
      "source": [
        "import numpy as np\n",
        "import pandas as pd\n",
        "\n",
        "def simular_um_mes():\n",
        "    dias = 30\n",
        "    data_inicial = pd.date_range(start='2023-09-01', periods=dias, freq='D')\n",
        "    dados = pd.DataFrame(index=data_inicial, columns=['Proventos', 'Compras', 'Fluxo de Caixa', 'Probabilidade de Falir', 'Risco de Falir'])\n",
        "    dados[['Proventos', 'Compras', 'Fluxo de Caixa', 'Probabilidade de Falir']] = 0.0  # Inicializando com valores float\n",
        "\n",
        "    fluxo_de_caixa_anterior = 0.0\n",
        "\n",
        "    for dia_atual in data_inicial:\n",
        "        n_proventos = np.random.randint(0, 11)\n",
        "        n_compras = np.random.randint(0, 11)\n",
        "        proventos = np.random.uniform(0, 10000, n_proventos).sum()\n",
        "        compras = np.random.uniform(0, 10000 + 5 * (30 - (dia_atual - data_inicial[0]).days), n_compras).sum()\n",
        "\n",
        "        fluxo_de_caixa_do_dia = fluxo_de_caixa_anterior + proventos - compras\n",
        "        dados.loc[dia_atual, ['Proventos', 'Compras', 'Fluxo de Caixa']] = [proventos, compras, fluxo_de_caixa_do_dia]\n",
        "\n",
        "        fluxo_de_caixa_anterior = fluxo_de_caixa_do_dia\n",
        "\n",
        "    min_fluxo = dados['Fluxo de Caixa'].min()\n",
        "    for index, row in dados.iterrows():\n",
        "        normalized = (row['Fluxo de Caixa'] - min_fluxo) / -min_fluxo if min_fluxo < 0 else 0\n",
        "        probabilidade = 1 - normalized\n",
        "        dados.loc[index, 'Probabilidade de Falir'] = probabilidade\n",
        "        dados.loc[index, 'Risco de Falir'] = (\n",
        "            \"Alto risco\" if probabilidade >= 0.8 else\n",
        "            \"Em risco\" if probabilidade >= 0.6 else\n",
        "            \"Equilibrado\" if probabilidade >= 0.4 else\n",
        "            \"Baixa chance\" if probabilidade >= 0.2 else\n",
        "            \"Sem chance\"\n",
        "        )\n",
        "\n",
        "    return dados\n",
        "\n",
        "casos = [simular_um_mes() for _ in range(15000)]"
      ],
      "metadata": {
        "id": "uWr8OF_Uv-VA"
      },
      "execution_count": 8,
      "outputs": []
    },
    {
      "cell_type": "code",
      "source": [
        "all_data = pd.concat(casos)\n",
        "all_data.to_parquet('/content/drive/MyDrive/pedrao.parquet')\n",
        "#all_data = pd.read_parquet('/content/drive/MyDrive/pedrao.parquet')"
      ],
      "metadata": {
        "id": "eIf5zFspwMwA"
      },
      "execution_count": 9,
      "outputs": []
    },
    {
      "cell_type": "code",
      "source": [
        "import tensorflow as tf\n",
        "\n",
        "# Verifica se há GPUs disponíveis\n",
        "gpus = tf.config.list_physical_devices('GPU')\n",
        "if gpus:\n",
        "    try:\n",
        "        # Configura o TensorFlow para usar a GPU\n",
        "        tf.config.experimental.set_memory_growth(gpus[0], True)\n",
        "        print(\"Using GPU:\", gpus[0])\n",
        "    except RuntimeError as e:\n",
        "        print(e)\n",
        "else:\n",
        "    print(\"No GPU found, using CPU instead.\")\n"
      ],
      "metadata": {
        "colab": {
          "base_uri": "https://localhost:8080/"
        },
        "id": "zJJ6dF2ZZjF3",
        "outputId": "eafe3df2-a63e-40dd-dc9d-e8173c2ec817"
      },
      "execution_count": 10,
      "outputs": [
        {
          "output_type": "stream",
          "name": "stdout",
          "text": [
            "Using GPU: PhysicalDevice(name='/physical_device:GPU:0', device_type='GPU')\n"
          ]
        }
      ]
    },
    {
      "cell_type": "code",
      "source": [
        "from imblearn.over_sampling import SMOTE\n",
        "from sklearn.model_selection import train_test_split\n",
        "import numpy as np\n",
        "import pandas as pd\n",
        "from tensorflow.keras.models import Sequential\n",
        "from tensorflow.keras.layers import Dense, Dropout, BatchNormalization\n",
        "from tensorflow.keras.optimizers import Adam\n",
        "\n",
        "def preprocess_data(data):\n",
        "    data = data[['Proventos', 'Compras', 'Risco de Falir']]\n",
        "    encoder = LabelEncoder()\n",
        "    data['Risco de Falir'] = encoder.fit_transform(data['Risco de Falir'])\n",
        "    scaler = MinMaxScaler()\n",
        "    data_scaled = scaler.fit_transform(data[['Proventos', 'Compras']])\n",
        "\n",
        "    X, y = data_scaled, data['Risco de Falir'].values\n",
        "\n",
        "    return X, y, encoder.classes_\n",
        "\n",
        "# Assuming 'all_data' is defined somewhere in your script or notebook\n",
        "X, y, classes = preprocess_data(all_data)\n",
        "X_train, X_test, y_train, y_test = train_test_split(X, y, test_size=0.2, random_state=42)\n",
        "\n",
        "# Apply SMOTE to balance the training data\n",
        "smote = SMOTE(random_state=42)\n",
        "X_train_smote, y_train_smote = smote.fit_resample(X_train, y_train)\n",
        "\n",
        "# Define and compile the model\n",
        "model = Sequential([\n",
        "    Dense(32, input_shape=(2,), activation='relu'),\n",
        "    BatchNormalization(),\n",
        "    Dropout(0.1),\n",
        "    Dense(16, activation='relu'),\n",
        "    BatchNormalization(),\n",
        "    Dropout(0.1),\n",
        "    Dense(len(classes), activation='softmax')\n",
        "])\n",
        "\n",
        "model.compile(optimizer=Adam(), loss='sparse_categorical_crossentropy', metrics=['accuracy'])\n",
        "\n",
        "# Train the model on the balanced training data\n",
        "history = model.fit(X_train_smote, y_train_smote, epochs=10, batch_size=128, validation_data=(X_test, y_test), verbose=1)\n",
        "\n",
        "# Evaluate the model on the original test set\n",
        "performance = model.evaluate(X_test, y_test, verbose=0)\n",
        "print(f'Test Loss: {performance[0]}, Test Accuracy: {performance[1]}')\n"
      ],
      "metadata": {
        "colab": {
          "base_uri": "https://localhost:8080/"
        },
        "id": "VmjkioZlwcEh",
        "outputId": "acd8f95a-16f9-4bdf-d5ff-779352c4591f"
      },
      "execution_count": 37,
      "outputs": [
        {
          "output_type": "stream",
          "name": "stderr",
          "text": [
            "<ipython-input-37-6d861266fd72>:12: SettingWithCopyWarning: \n",
            "A value is trying to be set on a copy of a slice from a DataFrame.\n",
            "Try using .loc[row_indexer,col_indexer] = value instead\n",
            "\n",
            "See the caveats in the documentation: https://pandas.pydata.org/pandas-docs/stable/user_guide/indexing.html#returning-a-view-versus-a-copy\n",
            "  data['Risco de Falir'] = encoder.fit_transform(data['Risco de Falir'])\n"
          ]
        },
        {
          "output_type": "stream",
          "name": "stdout",
          "text": [
            "Epoch 1/10\n"
          ]
        },
        {
          "output_type": "stream",
          "name": "stderr",
          "text": [
            "/usr/local/lib/python3.10/dist-packages/keras/src/layers/core/dense.py:87: UserWarning: Do not pass an `input_shape`/`input_dim` argument to a layer. When using Sequential models, prefer using an `Input(shape)` object as the first layer in the model instead.\n",
            "  super().__init__(activity_regularizer=activity_regularizer, **kwargs)\n"
          ]
        },
        {
          "output_type": "stream",
          "name": "stdout",
          "text": [
            "\u001b[1m6862/6862\u001b[0m \u001b[32m━━━━━━━━━━━━━━━━━━━━\u001b[0m\u001b[37m\u001b[0m \u001b[1m19s\u001b[0m 2ms/step - accuracy: 0.2263 - loss: 1.6297 - val_accuracy: 0.3828 - val_loss: 1.5765\n",
            "Epoch 2/10\n",
            "\u001b[1m6862/6862\u001b[0m \u001b[32m━━━━━━━━━━━━━━━━━━━━\u001b[0m\u001b[37m\u001b[0m \u001b[1m13s\u001b[0m 2ms/step - accuracy: 0.2332 - loss: 1.5973 - val_accuracy: 0.3409 - val_loss: 1.5835\n",
            "Epoch 3/10\n",
            "\u001b[1m6862/6862\u001b[0m \u001b[32m━━━━━━━━━━━━━━━━━━━━\u001b[0m\u001b[37m\u001b[0m \u001b[1m12s\u001b[0m 2ms/step - accuracy: 0.2334 - loss: 1.5971 - val_accuracy: 0.3607 - val_loss: 1.5866\n",
            "Epoch 4/10\n",
            "\u001b[1m6862/6862\u001b[0m \u001b[32m━━━━━━━━━━━━━━━━━━━━\u001b[0m\u001b[37m\u001b[0m \u001b[1m12s\u001b[0m 2ms/step - accuracy: 0.2329 - loss: 1.5970 - val_accuracy: 0.3668 - val_loss: 1.5828\n",
            "Epoch 5/10\n",
            "\u001b[1m6862/6862\u001b[0m \u001b[32m━━━━━━━━━━━━━━━━━━━━\u001b[0m\u001b[37m\u001b[0m \u001b[1m13s\u001b[0m 2ms/step - accuracy: 0.2327 - loss: 1.5970 - val_accuracy: 0.3683 - val_loss: 1.5857\n",
            "Epoch 6/10\n",
            "\u001b[1m6862/6862\u001b[0m \u001b[32m━━━━━━━━━━━━━━━━━━━━\u001b[0m\u001b[37m\u001b[0m \u001b[1m12s\u001b[0m 2ms/step - accuracy: 0.2331 - loss: 1.5973 - val_accuracy: 0.3414 - val_loss: 1.5913\n",
            "Epoch 7/10\n",
            "\u001b[1m6862/6862\u001b[0m \u001b[32m━━━━━━━━━━━━━━━━━━━━\u001b[0m\u001b[37m\u001b[0m \u001b[1m12s\u001b[0m 2ms/step - accuracy: 0.2334 - loss: 1.5972 - val_accuracy: 0.3563 - val_loss: 1.5824\n",
            "Epoch 8/10\n",
            "\u001b[1m6862/6862\u001b[0m \u001b[32m━━━━━━━━━━━━━━━━━━━━\u001b[0m\u001b[37m\u001b[0m \u001b[1m12s\u001b[0m 2ms/step - accuracy: 0.2337 - loss: 1.5969 - val_accuracy: 0.3648 - val_loss: 1.5825\n",
            "Epoch 9/10\n",
            "\u001b[1m6862/6862\u001b[0m \u001b[32m━━━━━━━━━━━━━━━━━━━━\u001b[0m\u001b[37m\u001b[0m \u001b[1m12s\u001b[0m 2ms/step - accuracy: 0.2331 - loss: 1.5967 - val_accuracy: 0.4086 - val_loss: 1.5778\n",
            "Epoch 10/10\n",
            "\u001b[1m6862/6862\u001b[0m \u001b[32m━━━━━━━━━━━━━━━━━━━━\u001b[0m\u001b[37m\u001b[0m \u001b[1m12s\u001b[0m 2ms/step - accuracy: 0.2343 - loss: 1.5969 - val_accuracy: 0.3494 - val_loss: 1.5926\n",
            "Test Loss: 1.5925847291946411, Test Accuracy: 0.3494444489479065\n"
          ]
        }
      ]
    },
    {
      "cell_type": "code",
      "source": [
        "from sklearn.metrics import confusion_matrix, classification_report\n",
        "import seaborn as sns\n",
        "import matplotlib.pyplot as plt\n",
        "\n",
        "# Suponha que 'y_pred' seja a previsão do modelo no conjunto de teste\n",
        "y_pred = model.predict(X_test)\n",
        "y_pred_classes = np.argmax(y_pred, axis=1)  # Converter probabilidades para classes preditas\n",
        "\n",
        "# Gerar a matriz de confusão\n",
        "conf_matrix = confusion_matrix(y_test, y_pred_classes)\n",
        "\n",
        "# Plotar a matriz de confusão\n",
        "plt.figure(figsize=(10, 7))\n",
        "sns.heatmap(conf_matrix, annot=True, fmt='d', cmap='Blues', xticklabels=classes, yticklabels=classes)\n",
        "plt.xlabel('Predicted Label')\n",
        "plt.ylabel('True Label')\n",
        "plt.title('Confusion Matrix')\n",
        "plt.show()\n",
        "\n",
        "# Gerar relatório de classificação\n",
        "report = classification_report(y_test, y_pred_classes, target_names=classes, output_dict=True)\n",
        "print(classification_report(y_test, y_pred_classes, target_names=classes))\n",
        "\n",
        "# Exibir o weighted average de f1-score, precision e recall\n",
        "print(f\"Weighted Avg Precision: {report['weighted avg']['precision']}\")\n",
        "print(f\"Weighted Avg Recall: {report['weighted avg']['recall']}\")\n",
        "print(f\"Weighted Avg F1-Score: {report['weighted avg']['f1-score']}\")\n"
      ],
      "metadata": {
        "colab": {
          "base_uri": "https://localhost:8080/",
          "height": 1000
        },
        "id": "7lSPpds6Ccmt",
        "outputId": "80c48951-a2fc-4436-fff5-0642bbc8d42f"
      },
      "execution_count": 38,
      "outputs": [
        {
          "output_type": "stream",
          "name": "stdout",
          "text": [
            "\u001b[1m2813/2813\u001b[0m \u001b[32m━━━━━━━━━━━━━━━━━━━━\u001b[0m\u001b[37m\u001b[0m \u001b[1m4s\u001b[0m 1ms/step\n"
          ]
        },
        {
          "output_type": "display_data",
          "data": {
            "text/plain": [
              "<Figure size 1000x700 with 2 Axes>"
            ],
            "image/png": "[encoded data removed]"
          },
          "metadata": {}
        },
        {
          "output_type": "stream",
          "name": "stderr",
          "text": [
            "/usr/local/lib/python3.10/dist-packages/sklearn/metrics/_classification.py:1471: UndefinedMetricWarning: Precision and F-score are ill-defined and being set to 0.0 in labels with no predicted samples. Use `zero_division` parameter to control this behavior.\n",
            "  _warn_prf(average, modifier, msg_start, len(result))\n",
            "/usr/local/lib/python3.10/dist-packages/sklearn/metrics/_classification.py:1471: UndefinedMetricWarning: Precision and F-score are ill-defined and being set to 0.0 in labels with no predicted samples. Use `zero_division` parameter to control this behavior.\n",
            "  _warn_prf(average, modifier, msg_start, len(result))\n",
            "/usr/local/lib/python3.10/dist-packages/sklearn/metrics/_classification.py:1471: UndefinedMetricWarning: Precision and F-score are ill-defined and being set to 0.0 in labels with no predicted samples. Use `zero_division` parameter to control this behavior.\n",
            "  _warn_prf(average, modifier, msg_start, len(result))\n",
            "/usr/local/lib/python3.10/dist-packages/sklearn/metrics/_classification.py:1471: UndefinedMetricWarning: Precision and F-score are ill-defined and being set to 0.0 in labels with no predicted samples. Use `zero_division` parameter to control this behavior.\n",
            "  _warn_prf(average, modifier, msg_start, len(result))\n"
          ]
        },
        {
          "output_type": "stream",
          "name": "stdout",
          "text": [
            "              precision    recall  f1-score   support\n",
            "\n",
            "  Alto risco       0.21      0.20      0.20     18077\n",
            "Baixa chance       0.11      0.05      0.06      9414\n",
            "    Em risco       0.00      0.00      0.00      9142\n",
            " Equilibrado       0.13      0.37      0.19      9516\n",
            "  Sem chance       0.58      0.55      0.56     43851\n",
            "\n",
            "    accuracy                           0.35     90000\n",
            "   macro avg       0.21      0.23      0.20     90000\n",
            "weighted avg       0.35      0.35      0.34     90000\n",
            "\n",
            "Weighted Avg Precision: 0.347836142763131\n",
            "Weighted Avg Recall: 0.34944444444444445\n",
            "Weighted Avg F1-Score: 0.34076375634929945\n"
          ]
        },
        {
          "output_type": "stream",
          "name": "stderr",
          "text": [
            "/usr/local/lib/python3.10/dist-packages/sklearn/metrics/_classification.py:1471: UndefinedMetricWarning: Precision and F-score are ill-defined and being set to 0.0 in labels with no predicted samples. Use `zero_division` parameter to control this behavior.\n",
            "  _warn_prf(average, modifier, msg_start, len(result))\n",
            "/usr/local/lib/python3.10/dist-packages/sklearn/metrics/_classification.py:1471: UndefinedMetricWarning: Precision and F-score are ill-defined and being set to 0.0 in labels with no predicted samples. Use `zero_division` parameter to control this behavior.\n",
            "  _warn_prf(average, modifier, msg_start, len(result))\n"
          ]
        }
      ]
    },
    {
      "cell_type": "code",
      "source": [
        "# Save the entire model to a HDF5 file.\n",
        "model.save('/content/drive/MyDrive/prediction_model.h5')"
      ],
      "metadata": {
        "colab": {
          "base_uri": "https://localhost:8080/"
        },
        "id": "JqhLLooe9sKI",
        "outputId": "9ff1ca20-84a3-4172-cfb3-e066a89615d9"
      },
      "execution_count": 39,
      "outputs": [
        {
          "output_type": "stream",
          "name": "stderr",
          "text": [
            "WARNING:absl:You are saving your model as an HDF5 file via `model.save()` or `keras.saving.save_model(model)`. This file format is considered legacy. We recommend using instead the native Keras format, e.g. `model.save('my_model.keras')` or `keras.saving.save_model(model, 'my_model.keras')`. \n"
          ]
        }
      ]
    },
    {
      "cell_type": "code",
      "source": [
        "import numpy as np\n",
        "import pandas as pd\n",
        "from sklearn.preprocessing import MinMaxScaler\n",
        "from tensorflow.keras.models import load_model\n",
        "\n",
        "def load_and_predict(single_input):\n",
        "    model = load_model('/content/drive/MyDrive/prediction_model.h5')\n",
        "\n",
        "    categories = ['Sem chance', 'Baixa chance', 'Equilibrado', 'Em risco', 'Alto risco']\n",
        "\n",
        "    scaler = MinMaxScaler()\n",
        "    scaler.fit([[0, 0], [10000, 5000]])\n",
        "\n",
        "    single_input_scaled = scaler.transform([single_input])\n",
        "\n",
        "    prediction = model.predict(single_input_scaled)\n",
        "    predicted_category_index = np.argmax(prediction, axis=1)\n",
        "\n",
        "    predicted_category_label = categories[predicted_category_index[0]]  # Index into categories\n",
        "\n",
        "    return predicted_category_label\n",
        "\n",
        "input_data = [100000, 150000]\n",
        "predicted_category = load_and_predict(input_data)\n",
        "print(f\"Predicted category label: {predicted_category}\")\n"
      ],
      "metadata": {
        "colab": {
          "base_uri": "https://localhost:8080/"
        },
        "id": "4Ds7HsNlJft0",
        "outputId": "4d0a09fb-7f55-4580-c4a0-be7d1800dcab"
      },
      "execution_count": 52,
      "outputs": [
        {
          "output_type": "stream",
          "name": "stderr",
          "text": [
            "WARNING:absl:Compiled the loaded model, but the compiled metrics have yet to be built. `model.compile_metrics` will be empty until you train or evaluate the model.\n"
          ]
        },
        {
          "output_type": "stream",
          "name": "stdout",
          "text": [
            "\u001b[1m1/1\u001b[0m \u001b[32m━━━━━━━━━━━━━━━━━━━━\u001b[0m\u001b[37m\u001b[0m \u001b[1m0s\u001b[0m 200ms/step\n",
            "Predicted category label: Em risco\n"
          ]
        }
      ]
    }
  ]
}